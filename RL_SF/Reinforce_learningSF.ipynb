{
 "cells": [
  {
   "cell_type": "code",
   "execution_count": 1,
   "metadata": {},
   "outputs": [],
   "source": [
    "import retro\n",
    "from gym import Env\n",
    "# imort the space shapes for the environment\n",
    "from gym.spaces import MultiBinary, box\n",
    "# import numnpy to calculate frame delta \n",
    "import numpy as np\n",
    "# import open cv for grayscaling\n",
    "import cv2\n",
    "import time \n",
    "# this use to slow the movement or make it normal playback import time"
   ]
  },
  {
   "cell_type": "code",
   "execution_count": null,
   "metadata": {},
   "outputs": [],
   "source": [
    "retro.data.list_games()"
   ]
  },
  {
   "cell_type": "code",
   "execution_count": 3,
   "metadata": {},
   "outputs": [],
   "source": [
    "env = retro.make(game='StreetFighterIISpecialChampionEdition-Genesis')"
   ]
  },
  {
   "cell_type": "code",
   "execution_count": 5,
   "metadata": {},
   "outputs": [],
   "source": [
    "env.close() # closes the environment important given we can only run one at a time \n"
   ]
  },
  {
   "cell_type": "code",
   "execution_count": null,
   "metadata": {},
   "outputs": [],
   "source": [
    "env.action_space # multi-binary spaces take a combination of binary flags in order to  make up an action in this case multibinary(12)\n",
    " # means a combination of 12 binary flags "
   ]
  },
  {
   "cell_type": "code",
   "execution_count": null,
   "metadata": {},
   "outputs": [],
   "source": [
    "env.action_space.sample() # sample the observation space"
   ]
  },
  {
   "cell_type": "code",
   "execution_count": null,
   "metadata": {},
   "outputs": [],
   "source": [
    "len([1,0,1,0,1,1,1,1,1,0,1,1,])"
   ]
  },
  {
   "cell_type": "code",
   "execution_count": null,
   "metadata": {},
   "outputs": [],
   "source": [
    "env.observation_space"
   ]
  },
  {
   "cell_type": "code",
   "execution_count": null,
   "metadata": {},
   "outputs": [],
   "source": [
    "#Game loop\n",
    "# reset game to starting state\n",
    "# if we die means the done flase the obs or env.reset the game will reset again \n",
    "obs = env.reset()\n",
    "# set flag to false telling us if it dies or not \n",
    "done = False \n",
    "# \n",
    "for game in range(1):\n",
    "    while not done:\n",
    "        if done:\n",
    "            obs = env.reset()\n",
    "        env.render()\n",
    "        obs, reward, done, info = env.step(env.action_space.sample()) # this randomly taking action inside of our game \n",
    "        time.sleep(0.01)# use to slow the process or make it watchable the gameplay\n",
    "        print(reward)\n",
    "    \n",
    "    obs = env.reset()\n",
    "    done = False\n",
    "\n",
    "      "
   ]
  },
  {
   "cell_type": "code",
   "execution_count": null,
   "metadata": {},
   "outputs": [],
   "source": []
  },
  {
   "cell_type": "code",
   "execution_count": null,
   "metadata": {},
   "outputs": [],
   "source": [
    "info\n"
   ]
  },
  {
   "cell_type": "markdown",
   "metadata": {},
   "source": [
    "Diet frame before and after\n",
    "-Observation preprocess - grayscale, frame delta, resize the frame so we have less pixels\n",
    "-Filter the a ction - parameter\n",
    "-Reward function  - set this to score"
   ]
  },
  {
   "cell_type": "code",
   "execution_count": 17,
   "metadata": {},
   "outputs": [
    {
     "data": {
      "text/plain": [
       "array([0, 0, 0, 0, 0, 0, 0, 1, 0, 1, 1, 1], dtype=int8)"
      ]
     },
     "execution_count": 17,
     "metadata": {},
     "output_type": "execute_result"
    }
   ],
   "source": [
    "MultiBinary(12).sample()"
   ]
  },
  {
   "cell_type": "code",
   "execution_count": 18,
   "metadata": {},
   "outputs": [],
   "source": [
    "from matplotlib import pyplot as plt"
   ]
  },
  {
   "cell_type": "code",
   "execution_count": null,
   "metadata": {},
   "outputs": [],
   "source": [
    "gray = cv2.cvtColor(obs, cv2.COLOR_BGR2GRAY)# we can use RGB or GRAY we get blue image bc opencv reference in bgr and matplotlib reference in rgb"
   ]
  },
  {
   "cell_type": "code",
   "execution_count": null,
   "metadata": {},
   "outputs": [],
   "source": [
    "resize = cv2.resize(gray,(84,84), interpolation=cv2.INTER_CUBIC)# this control pixel \n",
    "channels = np.reshape(resize, (84,84,1))"
   ]
  },
  {
   "cell_type": "code",
   "execution_count": null,
   "metadata": {},
   "outputs": [],
   "source": [
    "plt.imshow(cv2.cvtColor(channels, cv2.COLOR_BGR2RGB))"
   ]
  },
  {
   "cell_type": "code",
   "execution_count": null,
   "metadata": {},
   "outputs": [],
   "source": []
  },
  {
   "cell_type": "code",
   "execution_count": null,
   "metadata": {},
   "outputs": [],
   "source": [
    "#what our code does\n",
    "# 1. frame \n",
    "#2. preprocess 200x256x3 to 84x84x1\n",
    "#3. change in pixels current_frame - the last frame (previous_frame)"
   ]
  },
  {
   "cell_type": "markdown",
   "metadata": {},
   "source": [
    "Your code seems mostly correct, but there are a few issues that might be causing the error:\n",
    "\n",
    "box is not defined. It should be gym.spaces.Box.\n",
    "In the prerocess method, you’re using obs but it’s not defined in the method’s scope. It should be observation.\n",
    "In the prerocess method, you’re calling resize as if it were a function. It should be resized.\n",
    "In the step method, you’re calling self.preprocess(obs), but the method is named prerocess.\n",
    "bellow this is the error and decumented code \n"
   ]
  },
  {
   "cell_type": "code",
   "execution_count": null,
   "metadata": {},
   "outputs": [],
   "source": [
    "# #setup environment \n",
    "\n",
    "# # passing ENV from the import from the top \n",
    "# class Streetfighter(Env):\n",
    "#     def __init__(self):\n",
    "#         super().__init__()\n",
    "#         # specify action space and observation space\n",
    "#         self.observation_space = box(low = 0, high = 255, shape=(84,84, 1), dtype= np.uint8)# this are the image size i think (200, 256, 3) and the 255 high and low ois the color\n",
    "#         self.action_space = MultiBinary(12) # random move\n",
    "#         #startup and instance of the game\n",
    "#         self.game =  retro.make(game='StreetFighterIISpecialChampionEdition-Genesis', use_restricted_action=retro.Actions.FILTERED)# this filtered our action inside of our env rather than having our most binary \n",
    "#     def reset(self):\n",
    "#         #return first frame\n",
    "#         obs = self.game.reset() # this going to let us return to our observation space below also the retunr obs\n",
    "#         obs = self.preprocess(obs)\n",
    "#         self.previous_frame = obs\n",
    "#         #create a attribute to hold the score delta\n",
    "#         self.score = 0 \n",
    "#         return obs\n",
    "#     def prerocess(self, observation ): # this is optional\n",
    "#         gray = cv2.cvtColor(observation, cv2.COLOR_BGR2GRAY)# we can use RGB or GRAY we get blue image bc opencv reference in bgr and matplotlib reference in rgb\n",
    "#         # resize \n",
    "#         resize = cv2.resize(gray,(84,84), interpolation=cv2.INTER_CUBIC)# we cant use 84,84,1 here beacuse of intercubic so we use np reshape in var channel\n",
    "#         # add channels value\n",
    "#         channels = np.reshape(resize(84,84,1)) # since we're reshaping our pix we need to chnage the shape of the observatopm s[ac varoan;e ]\n",
    "#         return channels\n",
    "#     def step(self, action):\n",
    "#         # take a step\n",
    "#         obs, reward, done, info = self.game.step(action) # whatever our game up there variable game we take step\n",
    "#         obs = self.preprocess(obs)# this takes data on top u see the observation or obs top\n",
    "\n",
    "#         # getting frame delt\n",
    "#         #obs - previous_frame {formula}\n",
    "#         frame_delta = obs - self.previous_frame\n",
    "#         self.previous_frame = obs  \n",
    "\n",
    "#         #reshape the reward function \n",
    "#         reward = info ['score'] - self.score# subtract the current score to self score in top which is 0\n",
    "#         # resetting the current score \n",
    "#         self.score = info['score']\n",
    "\n",
    "#         return frame_delta, reward, done, info\n",
    "#     def render(self, *args, **kwargs): # part of env setter we need to unpack this thats why we have args and kwargs\n",
    "#         self.game.render() # and passing this\n",
    "     \n",
    "#     def close(self):\n",
    "#         self.game.close\n",
    "        \n",
    "    "
   ]
  },
  {
   "cell_type": "markdown",
   "metadata": {},
   "source": [
    "This are well refined code below\n"
   ]
  },
  {
   "cell_type": "code",
   "execution_count": 38,
   "metadata": {},
   "outputs": [],
   "source": [
    "from gym import Env\n",
    "from gym.spaces import Box, MultiBinary\n",
    "import retro\n",
    "import cv2\n",
    "import numpy as np\n",
    "\n",
    "class Streetfighter(Env):\n",
    "    def __init__(self):\n",
    "        super().__init__()\n",
    "        # specify action space and observation space\n",
    "        self.observation_space = Box(low = 0, high = 255, shape=(84,84, 1), dtype= np.uint8)\n",
    "        self.action_space = MultiBinary(12) \n",
    "        self.game =  retro.make(game='StreetFighterIISpecialChampionEdition-Genesis', use_restricted_actions=retro.Actions.FILTERED)\n",
    "    def reset(self):\n",
    "        obs = self.game.reset() \n",
    "        obs = self.preprocess(obs)\n",
    "        self.previous_frame = obs\n",
    "        self.score = 0 \n",
    "        return obs\n",
    "    def preprocess(self, observation ): \n",
    "        gray = cv2.cvtColor(observation, cv2.COLOR_BGR2GRAY)\n",
    "        resized = cv2.resize(gray,(84,84), interpolation=cv2.INTER_CUBIC)\n",
    "        channels = np.reshape(resized,(84,84,1)) \n",
    "        return channels\n",
    "    def step(self, action): ##The step method is called with an action that the agent has decided to take.\n",
    "        obs, reward, done, info = self.game.step(action) ##The self.game.step(action) line executes the action in the game, and returns the new observation, the reward for the action, whether the game is done, and some additional info.\n",
    "        obs = self.preprocess(obs)##The new observation is preprocessed and stored in obs.\n",
    "        frame_delta = obs - self.previous_frame # calculated the previous obs and current obs \n",
    "        self.previous_frame = obs  #The previous observation is updated to the new one. which is the = obs\n",
    "        reward = info ['score'] - self.score # The reward is then recalculated as the difference between the current score (info['score']) and the score at the previous step (self.score).\n",
    "        self.score = info['score'] # and stored to the new one which is updated the updated is the current score\n",
    "        return frame_delta, reward, done, info #Finally, the frame_delta, recalculated reward, done, and info are returned.\n",
    "    def render(self, *args, **kwargs): \n",
    "        self.game.render() \n",
    "    def close(self):\n",
    "        self.game.close()\n"
   ]
  },
  {
   "cell_type": "code",
   "execution_count": null,
   "metadata": {},
   "outputs": [],
   "source": [
    "info "
   ]
  },
  {
   "cell_type": "code",
   "execution_count": 39,
   "metadata": {},
   "outputs": [],
   "source": [
    "env = Streetfighter()"
   ]
  },
  {
   "cell_type": "code",
   "execution_count": 40,
   "metadata": {},
   "outputs": [
    {
     "data": {
      "text/plain": [
       "(84, 84, 1)"
      ]
     },
     "execution_count": 40,
     "metadata": {},
     "output_type": "execute_result"
    }
   ],
   "source": [
    "env.observation_space.shape"
   ]
  },
  {
   "cell_type": "code",
   "execution_count": 42,
   "metadata": {},
   "outputs": [
    {
     "data": {
      "text/plain": [
       "(12,)"
      ]
     },
     "execution_count": 42,
     "metadata": {},
     "output_type": "execute_result"
    }
   ],
   "source": [
    "env.action_space.shape"
   ]
  },
  {
   "cell_type": "code",
   "execution_count": null,
   "metadata": {},
   "outputs": [],
   "source": [
    "#Game loop\n",
    "# reset game to starting state\n",
    "# if we die means the done flase the obs or env.reset the game will reset again \n",
    "obs = env.reset()\n",
    "# set flag to false telling us if it dies or not \n",
    "done = False \n",
    "# \n",
    "for game in range(1):\n",
    "    while not done:\n",
    "        if done:\n",
    "            obs = env.reset()\n",
    "        env.render()\n",
    "        obs, reward, done, info = env.step(env.action_space.sample()) # this randomly taking action inside of our game \n",
    "        time.sleep(0.01)# use to slow the process or make it watchable the gameplay\n",
    "        if reward > 0:\n",
    "            print(reward)\n",
    "       \n",
    "    \n",
    "    obs = env.reset()\n",
    "    done = False\n",
    "\n",
    "      "
   ]
  }
 ],
 "metadata": {
  "kernelspec": {
   "display_name": "Kakarotto",
   "language": "python",
   "name": "python3"
  },
  "language_info": {
   "codemirror_mode": {
    "name": "ipython",
    "version": 3
   },
   "file_extension": ".py",
   "mimetype": "text/x-python",
   "name": "python",
   "nbconvert_exporter": "python",
   "pygments_lexer": "ipython3",
   "version": "3.8.18"
  }
 },
 "nbformat": 4,
 "nbformat_minor": 2
}
